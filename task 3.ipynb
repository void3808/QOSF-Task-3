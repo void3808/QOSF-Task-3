{
 "cells": [
  {
   "cell_type": "markdown",
   "id": "f0eac380",
   "metadata": {},
   "source": [
    "# Solution to the task\n",
    "\n",
    "The task demands to search for a valid combination to win the game. This can be achieved by performing a Grover's search on all the possible combinations of input states out of the empty boxes. Thus, what's needed is to design an appropriate oracle which can pick out the winning combination from the set of all possible cases.\n",
    "\n",
    "## The Approach\n",
    "\n",
    "As it is known, the oracle for the search algorithm adds a negative phase to the search states. Thus, for each specific case, a unique oracle is designed, which identifies the valid combination for the game. Then, $\\textbf{amplitude amplification}$ is applied on the state $|0\\rangle^{\\otimes4}$,using the Grover's diffusion operator. A single iteration of the procedure seemed enough to amplify the probability of win states in order to provide a decisive move with a higher probability."
   ]
  },
  {
   "cell_type": "markdown",
   "id": "7ad8dde0",
   "metadata": {},
   "source": [
    "## Importing the essential packages"
   ]
  },
  {
   "cell_type": "code",
   "execution_count": 1,
   "id": "274d7dcd",
   "metadata": {},
   "outputs": [],
   "source": [
    "from math import *\n",
    "from numpy import *\n",
    "\n",
    "from qiskit import *\n",
    "from qiskit.circuit import *\n",
    "from qiskit.circuit.library import *\n",
    "from qiskit.quantum_info import *\n",
    "from qiskit.visualization import *"
   ]
  },
  {
   "cell_type": "markdown",
   "id": "e40e8a62",
   "metadata": {},
   "source": [
    "## Initializing the circuit\n",
    "\n",
    "The following function takes the \"number of qubits\" as an input argument, and then creates a \"Quantum Cirucit\" object, upon which hadamard is applied to all the qubits to bring all the states in an uniform superposition.\n",
    "\n",
    "The function then returns the modified circuit(with equal superposition of states) as a \"Quantum Circuit\" object."
   ]
  },
  {
   "cell_type": "code",
   "execution_count": 2,
   "id": "78d04359",
   "metadata": {},
   "outputs": [],
   "source": [
    "def initial_state(qbits):\n",
    "    qc = QuantumCircuit(qbits)\n",
    "    qc.h(range(qbits))\n",
    "    \n",
    "    return qc"
   ]
  },
  {
   "cell_type": "markdown",
   "id": "a4ec475d",
   "metadata": {},
   "source": [
    "## Defining the oracle\n",
    "\n",
    "For this specific case, this oracle has been defined which establishes the search criterion for the valid combinations of moves."
   ]
  },
  {
   "cell_type": "code",
   "execution_count": 3,
   "id": "13bf06ea",
   "metadata": {},
   "outputs": [],
   "source": [
    "def valid_combinations():\n",
    "    oracle = QuantumCircuit(4)\n",
    "    mcz = ZGate().control(2)\n",
    "    for i in range(3):\n",
    "        oracle.cz(i, range(i+1, 4))\n",
    "    for i in range(4):\n",
    "        oracle = oracle.compose(mcz, list(range(3-i))+list(range(4-i, 4)))\n",
    "    \n",
    "    return oracle"
   ]
  },
  {
   "cell_type": "markdown",
   "id": "abe7dc7e",
   "metadata": {},
   "source": [
    "## Grover's Diffusion Operator\n",
    "\n",
    "The following function takes the number of qubits as an input argument and creates a general diffuser for any number of qubits, provided. It returns the diffusion operator as a \"Quantum Circuit\" object."
   ]
  },
  {
   "cell_type": "code",
   "execution_count": 4,
   "id": "aebc84ae",
   "metadata": {},
   "outputs": [],
   "source": [
    "def diffuser(qbits):\n",
    "    gd_operator = QuantumCircuit(qbits)\n",
    "    gd_operator.h(range(qbits))\n",
    "    gd_operator.x(range(qbits))\n",
    "    gd_operator = gd_operator.compose(ZGate().control(qbits-1), range(qbits))\n",
    "    gd_operator.x(range(qbits))\n",
    "    gd_operator.h(range(qbits))\n",
    "    \n",
    "    return gd_operator"
   ]
  },
  {
   "cell_type": "markdown",
   "id": "269e9391",
   "metadata": {},
   "source": [
    "For this specific case, the number of turns(i.e., 4) corresponds to the number of qubits involved in the circuit.\n",
    "\n",
    "The following code snippet creates such a \"Quantum Circuit\" with 4 qubits, initializes them into an equal superposition, and isolate outs the valid states from the complete set. The circuit specific to this case is also shown as an output to the snippet."
   ]
  },
  {
   "cell_type": "code",
   "execution_count": 5,
   "id": "2f7bcc14",
   "metadata": {},
   "outputs": [
    {
     "data": {
      "text/html": [
       "<pre style=\"word-wrap: normal;white-space: pre;background: #fff0;line-height: 1.1;font-family: &quot;Courier New&quot;,Courier,monospace\">     ┌───┐                           ┌───┐┌───┐        ┌───┐┌───┐\n",
       "q_0: ┤ H ├─■──■──■───────────■──■──■─┤ H ├┤ X ├──────■─┤ X ├┤ H ├\n",
       "     ├───┤ │  │  │           │  │  │ └───┘├───┤┌───┐ │ ├───┤├───┤\n",
       "q_1: ┤ H ├─■──┼──┼──■──■─────■──■──┼───■──┤ H ├┤ X ├─■─┤ X ├┤ H ├\n",
       "     ├───┤    │  │  │  │     │  │  │   │  ├───┤├───┤ │ ├───┤├───┤\n",
       "q_2: ┤ H ├────■──┼──■──┼──■──■──┼──■───■──┤ H ├┤ X ├─■─┤ X ├┤ H ├\n",
       "     ├───┤       │     │  │     │  │   │  ├───┤├───┤ │ ├───┤├───┤\n",
       "q_3: ┤ H ├───────■─────■──■─────■──■───■──┤ H ├┤ X ├─■─┤ X ├┤ H ├\n",
       "     └───┘                                └───┘└───┘   └───┘└───┘</pre>"
      ],
      "text/plain": [
       "     ┌───┐                           ┌───┐┌───┐        ┌───┐┌───┐\n",
       "q_0: ┤ H ├─■──■──■───────────■──■──■─┤ H ├┤ X ├──────■─┤ X ├┤ H ├\n",
       "     ├───┤ │  │  │           │  │  │ └───┘├───┤┌───┐ │ ├───┤├───┤\n",
       "q_1: ┤ H ├─■──┼──┼──■──■─────■──■──┼───■──┤ H ├┤ X ├─■─┤ X ├┤ H ├\n",
       "     ├───┤    │  │  │  │     │  │  │   │  ├───┤├───┤ │ ├───┤├───┤\n",
       "q_2: ┤ H ├────■──┼──■──┼──■──■──┼──■───■──┤ H ├┤ X ├─■─┤ X ├┤ H ├\n",
       "     ├───┤       │     │  │     │  │   │  ├───┤├───┤ │ ├───┤├───┤\n",
       "q_3: ┤ H ├───────■─────■──■─────■──■───■──┤ H ├┤ X ├─■─┤ X ├┤ H ├\n",
       "     └───┘                                └───┘└───┘   └───┘└───┘"
      ]
     },
     "execution_count": 5,
     "metadata": {},
     "output_type": "execute_result"
    }
   ],
   "source": [
    "n_qbit = 4    #number of qubits involved\n",
    "\n",
    "grover_circuit = initial_state(4)\n",
    "grover_circuit = grover_circuit.compose(valid_combinations(), range(4))\n",
    "grover_circuit = grover_circuit.compose(diffuser(4), range(4))\n",
    "grover_circuit.draw(fold=-1)"
   ]
  },
  {
   "cell_type": "markdown",
   "id": "f38c611b",
   "metadata": {},
   "source": [
    "The \"qasm-simulator\" backend from the \"qiskit\" module has been used to simulate and execute the circuit in order to get the prababilities of all the valid states from the circuit."
   ]
  },
  {
   "cell_type": "code",
   "execution_count": 6,
   "id": "9d45bb7a",
   "metadata": {},
   "outputs": [
    {
     "data": {
      "image/png": "[encoded data removed]",
      "text/plain": [
       "<Figure size 504x360 with 1 Axes>"
      ]
     },
     "execution_count": 6,
     "metadata": {},
     "output_type": "execute_result"
    }
   ],
   "source": [
    "backend = Aer.get_backend('qasm_simulator')\n",
    "gv_sim = transpile(grover_circuit, backend)\n",
    "gv_sim.measure_all()\n",
    "\n",
    "result = backend.run(gv_sim, shots=10000).result()\n",
    "counts = result.get_counts()\n",
    "plot_histogram(counts)"
   ]
  },
  {
   "cell_type": "markdown",
   "id": "fbf49e60",
   "metadata": {},
   "source": [
    "As we can from the bar chart, that the circuit is able to isolate out the valid moves from the complete set of combinations. But, as it is obvious, not all valid combinations are winning moves.\n",
    "\n",
    "Hence, another search criterion needs to be set which can select out the winning combination from this set of valid moves."
   ]
  },
  {
   "cell_type": "code",
   "execution_count": 7,
   "id": "651a8e90",
   "metadata": {},
   "outputs": [],
   "source": [
    "def winning_combinations():\n",
    "    oracle2 = QuantumCircuit(4)\n",
    "    oracle2.cz([0, 0, 1, 1], [1, 2, 2, 3])\n",
    "    mcz = ZGate().control(2)\n",
    "    oracle2 = oracle2.compose(mcz, range(3))\n",
    "    oracle2 = oracle2.compose(mcz, [0, 2, 3])\n",
    "    \n",
    "    return oracle2"
   ]
  },
  {
   "cell_type": "code",
   "execution_count": 8,
   "id": "e8fc4b44",
   "metadata": {},
   "outputs": [
    {
     "data": {
      "text/html": [
       "<pre style=\"word-wrap: normal;white-space: pre;background: #fff0;line-height: 1.1;font-family: &quot;Courier New&quot;,Courier,monospace\">     ┌───┐                           ┌───┐┌───┐        ┌───┐┌───┐                  ┌───┐┌───┐   ┌───┐┌───┐\n",
       "q_0: ┤ H ├─■──■──■───────────■──■──■─┤ H ├┤ X ├──────■─┤ X ├┤ H ├─■──■────────■──■─┤ H ├┤ X ├─■─┤ X ├┤ H ├\n",
       "     ├───┤ │  │  │           │  │  │ └───┘├───┤┌───┐ │ ├───┤├───┤ │  │        │  │ ├───┤├───┤ │ ├───┤├───┤\n",
       "q_1: ┤ H ├─■──┼──┼──■──■─────■──■──┼───■──┤ H ├┤ X ├─■─┤ X ├┤ H ├─■──┼──■──■──■──┼─┤ H ├┤ X ├─■─┤ X ├┤ H ├\n",
       "     ├───┤    │  │  │  │     │  │  │   │  ├───┤├───┤ │ ├───┤├───┤    │  │  │  │  │ ├───┤├───┤ │ ├───┤├───┤\n",
       "q_2: ┤ H ├────■──┼──■──┼──■──■──┼──■───■──┤ H ├┤ X ├─■─┤ X ├┤ H ├────■──■──┼──■──■─┤ H ├┤ X ├─■─┤ X ├┤ H ├\n",
       "     ├───┤       │     │  │     │  │   │  ├───┤├───┤ │ ├───┤├───┤          │     │ ├───┤├───┤ │ ├───┤├───┤\n",
       "q_3: ┤ H ├───────■─────■──■─────■──■───■──┤ H ├┤ X ├─■─┤ X ├┤ H ├──────────■─────■─┤ H ├┤ X ├─■─┤ X ├┤ H ├\n",
       "     └───┘                                └───┘└───┘   └───┘└───┘                  └───┘└───┘   └───┘└───┘</pre>"
      ],
      "text/plain": [
       "     ┌───┐                           ┌───┐┌───┐        ┌───┐┌───┐                  ┌───┐┌───┐   ┌───┐┌───┐\n",
       "q_0: ┤ H ├─■──■──■───────────■──■──■─┤ H ├┤ X ├──────■─┤ X ├┤ H ├─■──■────────■──■─┤ H ├┤ X ├─■─┤ X ├┤ H ├\n",
       "     ├───┤ │  │  │           │  │  │ └───┘├───┤┌───┐ │ ├───┤├───┤ │  │        │  │ ├───┤├───┤ │ ├───┤├───┤\n",
       "q_1: ┤ H ├─■──┼──┼──■──■─────■──■──┼───■──┤ H ├┤ X ├─■─┤ X ├┤ H ├─■──┼──■──■──■──┼─┤ H ├┤ X ├─■─┤ X ├┤ H ├\n",
       "     ├───┤    │  │  │  │     │  │  │   │  ├───┤├───┤ │ ├───┤├───┤    │  │  │  │  │ ├───┤├───┤ │ ├───┤├───┤\n",
       "q_2: ┤ H ├────■──┼──■──┼──■──■──┼──■───■──┤ H ├┤ X ├─■─┤ X ├┤ H ├────■──■──┼──■──■─┤ H ├┤ X ├─■─┤ X ├┤ H ├\n",
       "     ├───┤       │     │  │     │  │   │  ├───┤├───┤ │ ├───┤├───┤          │     │ ├───┤├───┤ │ ├───┤├───┤\n",
       "q_3: ┤ H ├───────■─────■──■─────■──■───■──┤ H ├┤ X ├─■─┤ X ├┤ H ├──────────■─────■─┤ H ├┤ X ├─■─┤ X ├┤ H ├\n",
       "     └───┘                                └───┘└───┘   └───┘└───┘                  └───┘└───┘   └───┘└───┘"
      ]
     },
     "execution_count": 8,
     "metadata": {},
     "output_type": "execute_result"
    }
   ],
   "source": [
    "grover_circuit = grover_circuit.compose(winning_combinations(), range(4))\n",
    "grover_circuit = grover_circuit.compose(diffuser(4), range(4))\n",
    "grover_circuit.draw(fold=-1)"
   ]
  },
  {
   "cell_type": "code",
   "execution_count": 9,
   "id": "66a08df0",
   "metadata": {},
   "outputs": [
    {
     "data": {
      "image/png": "[encoded data removed]",
      "text/plain": [
       "<Figure size 504x360 with 1 Axes>"
      ]
     },
     "execution_count": 9,
     "metadata": {},
     "output_type": "execute_result"
    }
   ],
   "source": [
    "t_gv = transpile(grover_circuit, backend)\n",
    "t_gv.save_statevector()\n",
    "result = backend.run(t_gv, shots=10000).result()\n",
    "counts = result.get_counts()\n",
    "plot_histogram(counts)"
   ]
  },
  {
   "cell_type": "markdown",
   "id": "6ad2ce8f",
   "metadata": {},
   "source": [
    "As we can see from the above bar chart, that the states $|1001\\rangle$ and $|1100\\rangle$, respectively corresponding to the combinations $XOOX$ and $XXOO$, have the highest probability, thus indicating the valid combinations the player needs to make in order to play the game."
   ]
  },
  {
   "cell_type": "markdown",
   "id": "7b00062c",
   "metadata": {},
   "source": [
    "## The Strategy to Win\n",
    "\n",
    "Now, the previous bar chart only provided the valid combinations to win, but it lacked the capability to provide any information on which move to make i.e. at which index should the player make his move in order to win.\n",
    "\n",
    "The following function compensates for that by performing a measurement on each of the qubit of the \"Quantum Circuit\" and recording the numbers of 'ones'(i.e., the $X$'s), which then can be used to calculate the probability of the index for the next move."
   ]
  },
  {
   "cell_type": "code",
   "execution_count": 10,
   "id": "0c286ba8",
   "metadata": {},
   "outputs": [],
   "source": [
    "def strategize(qc, backend):\n",
    "    cr = ClassicalRegister(1)\n",
    "    qc.add_register(cr)\n",
    "    num_list = []\n",
    "    for i in range(qc.num_qubits):\n",
    "        qc_copy = qc.copy()\n",
    "        qc_copy.measure(i, 0)\n",
    "        t_qc = transpile(qc_copy, backend)\n",
    "        result = backend.run(t_qc).result()\n",
    "        counts = result.get_counts()\n",
    "        num_list.append(counts['1'])\n",
    "    \n",
    "    return num_list"
   ]
  },
  {
   "cell_type": "code",
   "execution_count": 11,
   "id": "d4c6b4b7",
   "metadata": {
    "scrolled": true
   },
   "outputs": [
    {
     "name": "stdout",
     "output_type": "stream",
     "text": [
      "The list of the probabilities of the indices to win  [44.28500742 23.84957942  6.28401781 25.58139535]\n",
      "You should play the next move at index  1\n"
     ]
    }
   ],
   "source": [
    "import numpy as np\n",
    "\n",
    "num1 = strategize(t_gv.reverse_bits(), backend)\n",
    "num1 = np.array(num1)\n",
    "total = num1.sum()\n",
    "num_per = num1/total*100\n",
    "print(\"The list of the probabilities of the indices to win \", num_per)\n",
    "print(\"You should play the next move at index \", np.argmax(num_per)+1)"
   ]
  },
  {
   "cell_type": "markdown",
   "id": "e8e539f9",
   "metadata": {},
   "source": [
    "As we can see, the above code snippet can calculate the probablity to win based on the indices for '1'(i.e. the $X$). Here, it displays this list of probablities as a numpy array where the index with the highest probability is the best position to make a move.\n",
    "\n",
    "Not only does the array indicate the next move of the player, but it also predicts the future indices that the player should play in order to win. In this case, after index '1', the player should play index '2' or '4' in his second chance to win the game."
   ]
  },
  {
   "cell_type": "markdown",
   "id": "a27e8806",
   "metadata": {},
   "source": [
    "This above information can be plotted as a bar chart, as shown below."
   ]
  },
  {
   "cell_type": "code",
   "execution_count": 12,
   "id": "1969c943",
   "metadata": {},
   "outputs": [
    {
     "data": {
      "text/plain": [
       "Text(0.5, 0, 'Position indices')"
      ]
     },
     "execution_count": 12,
     "metadata": {},
     "output_type": "execute_result"
    },
    {
     "data": {
      "image/png": "[encoded data removed]",
      "text/plain": [
       "<Figure size 432x288 with 1 Axes>"
      ]
     },
     "metadata": {
      "needs_background": "light"
     },
     "output_type": "display_data"
    }
   ],
   "source": [
    "from matplotlib import pyplot as plt\n",
    "\n",
    "x = range(1, 5)\n",
    "y = num_per\n",
    "plt.bar(x, y)\n",
    "plt.ylabel('Probabilty')\n",
    "plt.xlabel('Position indices')"
   ]
  },
  {
   "cell_type": "markdown",
   "id": "cea685ca",
   "metadata": {},
   "source": [
    "## Perfecting the Code\n",
    "Although, the above set of codes can produce the decisive moves with certainty, it is not accurate. This is because the code differentiates the valid combinations from the invalid ones(like $|0000\\rangle$ corresponding to the move $OOOO$) and then isolate outs the winning combination from the set.\n",
    "\n",
    "This is inefficient as it's pretty obvious that the invalid combinations are not gonna be the winning moves. A more efficient algorithm need not seperate the valid moves from the invalid ones, and instantly isolate out the winning moves from the whole set of combinations.\n",
    "\n",
    "Hence, the search criterion must be modified such that it can isolate out the winning combination of moves in a single pass."
   ]
  },
  {
   "cell_type": "code",
   "execution_count": 13,
   "id": "81028fe5",
   "metadata": {},
   "outputs": [],
   "source": [
    "def oracle():\n",
    "    qc = QuantumCircuit(4)\n",
    "    qc.cz(0, [1, 3])\n",
    "    mcz = ZGate().control(2)\n",
    "    qc = qc.compose(mcz, range(3))\n",
    "    qc = qc.compose(mcz, [0, 2, 3])\n",
    "    \n",
    "    return qc"
   ]
  },
  {
   "cell_type": "markdown",
   "id": "4fc912aa",
   "metadata": {},
   "source": [
    "Such a circuit with above mentioned modification should look like the one below."
   ]
  },
  {
   "cell_type": "code",
   "execution_count": 14,
   "id": "e795a5d0",
   "metadata": {},
   "outputs": [
    {
     "data": {
      "text/html": [
       "<pre style=\"word-wrap: normal;white-space: pre;background: #fff0;line-height: 1.1;font-family: &quot;Courier New&quot;,Courier,monospace\">     ┌───┐            ┌───┐┌───┐   ┌───┐┌───┐\n",
       "q_0: ┤ H ├────■─────■─┤ H ├┤ X ├─■─┤ X ├┤ H ├\n",
       "     ├───┤    │     │ ├───┤├───┤ │ ├───┤├───┤\n",
       "q_1: ┤ H ├────┼──■──■─┤ H ├┤ X ├─■─┤ X ├┤ H ├\n",
       "     ├───┤    │  │  │ ├───┤├───┤ │ ├───┤├───┤\n",
       "q_2: ┤ H ├─■──┼──■──┼─┤ H ├┤ X ├─■─┤ X ├┤ H ├\n",
       "     ├───┤ │  │  │  │ ├───┤├───┤ │ ├───┤├───┤\n",
       "q_3: ┤ H ├─■──■──■──■─┤ H ├┤ X ├─■─┤ X ├┤ H ├\n",
       "     └───┘            └───┘└───┘   └───┘└───┘</pre>"
      ],
      "text/plain": [
       "     ┌───┐            ┌───┐┌───┐   ┌───┐┌───┐\n",
       "q_0: ┤ H ├────■─────■─┤ H ├┤ X ├─■─┤ X ├┤ H ├\n",
       "     ├───┤    │     │ ├───┤├───┤ │ ├───┤├───┤\n",
       "q_1: ┤ H ├────┼──■──■─┤ H ├┤ X ├─■─┤ X ├┤ H ├\n",
       "     ├───┤    │  │  │ ├───┤├───┤ │ ├───┤├───┤\n",
       "q_2: ┤ H ├─■──┼──■──┼─┤ H ├┤ X ├─■─┤ X ├┤ H ├\n",
       "     ├───┤ │  │  │  │ ├───┤├───┤ │ ├───┤├───┤\n",
       "q_3: ┤ H ├─■──■──■──■─┤ H ├┤ X ├─■─┤ X ├┤ H ├\n",
       "     └───┘            └───┘└───┘   └───┘└───┘"
      ]
     },
     "execution_count": 14,
     "metadata": {},
     "output_type": "execute_result"
    }
   ],
   "source": [
    "n_qbit = 4\n",
    "\n",
    "grover_circuit = initial_state(n_qbit)\n",
    "grover_circuit = grover_circuit.compose(oracle(), range(n_qbit))\n",
    "grover_circuit = grover_circuit.compose(diffuser(n_qbit), range(n_qbit))\n",
    "grover_circuit = grover_circuit.reverse_bits()\n",
    "grover_circuit.draw(fold=-1)"
   ]
  },
  {
   "cell_type": "code",
   "execution_count": 15,
   "id": "e4140bb7",
   "metadata": {},
   "outputs": [
    {
     "data": {
      "image/png": "[encoded data removed]",
      "text/plain": [
       "<Figure size 504x360 with 1 Axes>"
      ]
     },
     "execution_count": 15,
     "metadata": {},
     "output_type": "execute_result"
    }
   ],
   "source": [
    "backend = Aer.get_backend(\"qasm_simulator\")\n",
    "t_gv = transpile(grover_circuit, backend)\n",
    "t_gv.save_statevector()\n",
    "result = backend.run(t_gv).result()\n",
    "counts = result.get_counts()\n",
    "plot_histogram(counts)"
   ]
  },
  {
   "cell_type": "markdown",
   "id": "7e23b837",
   "metadata": {},
   "source": [
    "We can see that the circuit is able to get the winning moves in a single iteration, unlike the previous case which used two different oracles to perform the same task. But, upon performing the strategic measurement, we should be able to decide the next move, just like in the previous case."
   ]
  },
  {
   "cell_type": "code",
   "execution_count": 16,
   "id": "9afd14b5",
   "metadata": {},
   "outputs": [
    {
     "name": "stdout",
     "output_type": "stream",
     "text": [
      "The list of the probabilities of the indices to win  [43.94379845 25.58139535  5.71705426 24.75775194]\n",
      "You should play the next move at index  1\n"
     ]
    }
   ],
   "source": [
    "num1 = strategize(t_gv.reverse_bits(), backend)\n",
    "num1 = np.array(num1)\n",
    "total = num1.sum()\n",
    "num_per = num1/total*100\n",
    "print(\"The list of the probabilities of the indices to win \", num_per)\n",
    "print(\"You should play the next move at index \", np.argmax(num_per)+1)"
   ]
  },
  {
   "cell_type": "code",
   "execution_count": 17,
   "id": "843a743b",
   "metadata": {},
   "outputs": [
    {
     "data": {
      "text/plain": [
       "Text(0.5, 0, 'Position indices')"
      ]
     },
     "execution_count": 17,
     "metadata": {},
     "output_type": "execute_result"
    },
    {
     "data": {
      "image/png": "[encoded data removed]",
      "text/plain": [
       "<Figure size 432x288 with 1 Axes>"
      ]
     },
     "metadata": {
      "needs_background": "light"
     },
     "output_type": "display_data"
    }
   ],
   "source": [
    "x = range(1, 5)\n",
    "y = num_per\n",
    "plt.bar(x, y)\n",
    "plt.ylabel('Probabilty')\n",
    "plt.xlabel('Position indices')"
   ]
  },
  {
   "cell_type": "markdown",
   "id": "e504f1a1",
   "metadata": {},
   "source": [
    "# Bonus"
   ]
  },
  {
   "cell_type": "markdown",
   "id": "8fbd7f85",
   "metadata": {},
   "source": [
    "## Defining the oracle\n",
    "\n",
    "Similar to the orevious cases, a unique oracle has to be defined which inverts the phase of the search states and finds the winning combination to win."
   ]
  },
  {
   "cell_type": "code",
   "execution_count": 18,
   "id": "85f2782e",
   "metadata": {},
   "outputs": [],
   "source": [
    "def oracle():\n",
    "    oracle = QuantumCircuit(5)\n",
    "    mcz = ZGate().control(2)\n",
    "    oracle.cz(0, [1, 2, 4])\n",
    "    oracle.cz(1, 2)\n",
    "    oracle.cz(2, [3, 4])\n",
    "    oracle = oracle.compose(mcz, range(3))\n",
    "    oracle = oracle.compose(mcz, list(range(2))+[3])\n",
    "    oracle = oracle.compose(mcz, [0, 2, 4])\n",
    "    oracle = oracle.compose(mcz, [0, 3, 4])\n",
    "    oracle = oracle.compose(mcz.control(1), range(1, 5))\n",
    "    oracle = oracle.compose(mcz.control(1), list(range(3))+[4])\n",
    "    \n",
    "    return oracle"
   ]
  },
  {
   "cell_type": "markdown",
   "id": "a22efaeb",
   "metadata": {},
   "source": [
    "The circuit for the bonus case is as shown below."
   ]
  },
  {
   "cell_type": "code",
   "execution_count": 19,
   "id": "6d49aee3",
   "metadata": {},
   "outputs": [
    {
     "data": {
      "text/html": [
       "<pre style=\"word-wrap: normal;white-space: pre;background: #fff0;line-height: 1.1;font-family: &quot;Courier New&quot;,Courier,monospace\">     ┌───┐                                    ┌───┐┌───┐   ┌───┐┌───┐\n",
       "q_0: ┤ H ├───────■────────■────────■──■──■──■─┤ H ├┤ X ├─■─┤ X ├┤ H ├\n",
       "     ├───┤       │        │        │  │  │  │ ├───┤├───┤ │ ├───┤├───┤\n",
       "q_1: ┤ H ├───────┼─────■──┼─────■──┼──■──■──┼─┤ H ├┤ X ├─■─┤ X ├┤ H ├\n",
       "     ├───┤       │     │  │     │  │  │  │  │ ├───┤├───┤ │ ├───┤├───┤\n",
       "q_2: ┤ H ├────■──┼──■──■──■──■──┼──■──┼──■──■─┤ H ├┤ X ├─■─┤ X ├┤ H ├\n",
       "     ├───┤    │  │  │        │  │  │  │  │  │ ├───┤├───┤ │ ├───┤├───┤\n",
       "q_3: ┤ H ├─■──┼──┼──■────────■──■──┼──┼──■──■─┤ H ├┤ X ├─■─┤ X ├┤ H ├\n",
       "     ├───┤ │  │  │           │  │  │  │     │ ├───┤├───┤ │ ├───┤├───┤\n",
       "q_4: ┤ H ├─■──■──■───────────■──■──■──■─────■─┤ H ├┤ X ├─■─┤ X ├┤ H ├\n",
       "     └───┘                                    └───┘└───┘   └───┘└───┘</pre>"
      ],
      "text/plain": [
       "     ┌───┐                                    ┌───┐┌───┐   ┌───┐┌───┐\n",
       "q_0: ┤ H ├───────■────────■────────■──■──■──■─┤ H ├┤ X ├─■─┤ X ├┤ H ├\n",
       "     ├───┤       │        │        │  │  │  │ ├───┤├───┤ │ ├───┤├───┤\n",
       "q_1: ┤ H ├───────┼─────■──┼─────■──┼──■──■──┼─┤ H ├┤ X ├─■─┤ X ├┤ H ├\n",
       "     ├───┤       │     │  │     │  │  │  │  │ ├───┤├───┤ │ ├───┤├───┤\n",
       "q_2: ┤ H ├────■──┼──■──■──■──■──┼──■──┼──■──■─┤ H ├┤ X ├─■─┤ X ├┤ H ├\n",
       "     ├───┤    │  │  │        │  │  │  │  │  │ ├───┤├───┤ │ ├───┤├───┤\n",
       "q_3: ┤ H ├─■──┼──┼──■────────■──■──┼──┼──■──■─┤ H ├┤ X ├─■─┤ X ├┤ H ├\n",
       "     ├───┤ │  │  │           │  │  │  │     │ ├───┤├───┤ │ ├───┤├───┤\n",
       "q_4: ┤ H ├─■──■──■───────────■──■──■──■─────■─┤ H ├┤ X ├─■─┤ X ├┤ H ├\n",
       "     └───┘                                    └───┘└───┘   └───┘└───┘"
      ]
     },
     "execution_count": 19,
     "metadata": {},
     "output_type": "execute_result"
    }
   ],
   "source": [
    "n_qbit = 5\n",
    "\n",
    "gc = initial_state(n_qbit)\n",
    "gc = gc.compose(oracle(), range(n_qbit))\n",
    "gc = gc.compose(diffuser(n_qbit))\n",
    "gc = gc.reverse_bits()\n",
    "gc.draw(fold=-1)"
   ]
  },
  {
   "cell_type": "code",
   "execution_count": 20,
   "id": "8d73bacc",
   "metadata": {},
   "outputs": [
    {
     "data": {
      "image/png": "[encoded data removed]",
      "text/plain": [
       "<Figure size 504x360 with 1 Axes>"
      ]
     },
     "execution_count": 20,
     "metadata": {},
     "output_type": "execute_result"
    }
   ],
   "source": [
    "backend = Aer.get_backend(\"qasm_simulator\")\n",
    "t_gc = transpile(gc, backend)\n",
    "t_gc.save_statevector()\n",
    "result = backend.run(t_gc).result()\n",
    "counts = result.get_counts()\n",
    "plot_histogram(counts)"
   ]
  },
  {
   "cell_type": "markdown",
   "id": "1b1aecd9",
   "metadata": {},
   "source": [
    "Above is the bar chart representing all the winning combinations for the case."
   ]
  },
  {
   "cell_type": "code",
   "execution_count": 21,
   "id": "702171d6",
   "metadata": {},
   "outputs": [
    {
     "name": "stdout",
     "output_type": "stream",
     "text": [
      "The list of the probabilities of the indices to win  [24.42857143 17.0952381  33.0952381   7.95238095 17.42857143]\n",
      "You should play the next move at index  3\n"
     ]
    }
   ],
   "source": [
    "num1 = strategize(t_gc.reverse_bits(), backend)\n",
    "num1 = np.array(num1)\n",
    "total = num1.sum()\n",
    "num_per = num1/total*100\n",
    "print(\"The list of the probabilities of the indices to win \", num_per)\n",
    "print(\"You should play the next move at index \", np.argmax(num_per)+1)"
   ]
  },
  {
   "cell_type": "code",
   "execution_count": 22,
   "id": "4481d8f3",
   "metadata": {},
   "outputs": [
    {
     "data": {
      "text/plain": [
       "Text(0.5, 0, 'Position indices')"
      ]
     },
     "execution_count": 22,
     "metadata": {},
     "output_type": "execute_result"
    },
    {
     "data": {
      "image/png": "[encoded data removed]",
      "text/plain": [
       "<Figure size 432x288 with 1 Axes>"
      ]
     },
     "metadata": {
      "needs_background": "light"
     },
     "output_type": "display_data"
    }
   ],
   "source": [
    "x = range(1, 6)\n",
    "y = num_per\n",
    "plt.bar(x, y)\n",
    "plt.ylabel('Probabilty')\n",
    "plt.xlabel('Position indices')"
   ]
  },
  {
   "cell_type": "markdown",
   "id": "0315bbaf",
   "metadata": {},
   "source": [
    "Now, as in the original case, if the winning combination was \n",
    "$\\big(\\begin{smallmatrix}\n",
    "  X & X\\\\\n",
    "  O & O\n",
    "\\end{smallmatrix}\\big)$, \n",
    "it was represented as $|1100\\rangle$. Similarly, in the bonus case, when the opponent is yet to play his move, a combination like \n",
    "$\\big(\\begin{smallmatrix}\n",
    "      & X & O\\\\\n",
    "    X & O & O\n",
    "\\end{smallmatrix}\\big)$ \n",
    "is represented as $|10100\\rangle$.\n",
    "\n",
    "Thus, we can see that the algorithm is able to find the best move with enough certainty. According to the above bar chart, the player should play his next move at index 3. Even if the player misses this move, the code has already predicted (without any modification to it) the best move which is index 1 and then 2 or 5."
   ]
  },
  {
   "cell_type": "code",
   "execution_count": 23,
   "id": "4ff9990c",
   "metadata": {},
   "outputs": [
    {
     "data": {
      "text/html": [
       "<h3>Version Information</h3><table><tr><th>Qiskit Software</th><th>Version</th></tr><tr><td><code>qiskit-terra</code></td><td>0.19.2</td></tr><tr><td><code>qiskit-aer</code></td><td>0.10.3</td></tr><tr><td><code>qiskit-ignis</code></td><td>0.7.0</td></tr><tr><td><code>qiskit-ibmq-provider</code></td><td>0.18.3</td></tr><tr><td><code>qiskit</code></td><td>0.34.2</td></tr><tr><td><code>qiskit-nature</code></td><td>0.3.1</td></tr><tr><td><code>qiskit-finance</code></td><td>0.3.1</td></tr><tr><td><code>qiskit-optimization</code></td><td>0.3.1</td></tr><tr><td><code>qiskit-machine-learning</code></td><td>0.3.1</td></tr><tr><th>System information</th></tr><tr><td>Python version</td><td>3.9.7</td></tr><tr><td>Python compiler</td><td>MSC v.1916 64 bit (AMD64)</td></tr><tr><td>Python build</td><td>default, Sep 16 2021 16:59:28</td></tr><tr><td>OS</td><td>Windows</td></tr><tr><td>CPUs</td><td>2</td></tr><tr><td>Memory (Gb)</td><td>7.893558502197266</td></tr><tr><td colspan='2'>Tue Mar 08 23:39:45 2022 India Standard Time</td></tr></table>"
      ],
      "text/plain": [
       "<IPython.core.display.HTML object>"
      ]
     },
     "metadata": {},
     "output_type": "display_data"
    }
   ],
   "source": [
    "import qiskit.tools.jupyter\n",
    "%qiskit_version_table"
   ]
  },
  {
   "cell_type": "code",
   "execution_count": null,
   "id": "855ed6b6",
   "metadata": {},
   "outputs": [],
   "source": []
  }
 ],
 "metadata": {
  "kernelspec": {
   "display_name": "Python 3 (ipykernel)",
   "language": "python",
   "name": "python3"
  },
  "language_info": {
   "codemirror_mode": {
    "name": "ipython",
    "version": 3
   },
   "file_extension": ".py",
   "mimetype": "text/x-python",
   "name": "python",
   "nbconvert_exporter": "python",
   "pygments_lexer": "ipython3",
   "version": "3.9.7"
  }
 },
 "nbformat": 4,
 "nbformat_minor": 5
}
